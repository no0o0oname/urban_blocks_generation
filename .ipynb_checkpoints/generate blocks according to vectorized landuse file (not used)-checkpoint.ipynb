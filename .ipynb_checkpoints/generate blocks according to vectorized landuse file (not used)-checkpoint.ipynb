{
 "cells": [
  {
   "cell_type": "code",
   "execution_count": 65,
   "metadata": {
    "ExecuteTime": {
     "end_time": "2023-09-24T18:46:49.023169Z",
     "start_time": "2023-09-24T18:46:49.005184Z"
    }
   },
   "outputs": [],
   "source": [
    "# -*- coding: utf-8 -*- \n",
    "from __future__ import unicode_literals\n",
    "\n",
    "import numpy as np\n",
    "import pandas as pd\n",
    "import json\n",
    "import itertools as itt\n",
    "import os\n",
    "import matplotlib.pyplot as plt\n",
    "import matplotlib as mpl\n",
    "import seaborn as sns\n",
    "\n",
    "\n",
    "\n",
    "import geopandas as gpd\n",
    "import shapely\n",
    "import fiona\n",
    "import CoordinatesConverter as convert_xy  #the .py file for bd09 conversioin\n",
    "\n",
    "%matplotlib inline\n",
    "#plt.style.use('ggplot')\n",
    "plt.rcParams['figure.figsize']=[18,8]\n",
    "plt.rcParams['axes.titlesize'] = 'medium'\n",
    "plt.rcParams['font.sans-serif'] = 'SimHei'\n",
    "plt.rcParams['axes.unicode_minus'] = False\n",
    "plt.rcParams['legend.frameon'] = False\n",
    "\n",
    "\n",
    "WGS84 = 'EPSG:4326'\n",
    "#UTM_bj = ccrs.UTM(50)\n",
    "UTM_bj = 'EPSG:32650'\n",
    "UTM_nj = 'EPSG:32650'\n",
    "\n",
    "\n",
    "## set the projection (planar) crs of this area\n",
    "CRS_planar = UTM_nj"
   ]
  },
  {
   "cell_type": "markdown",
   "metadata": {
    "ExecuteTime": {
     "end_time": "2021-12-05T13:10:30.164850Z",
     "start_time": "2021-12-05T13:10:30.157840Z"
    }
   },
   "source": [
    "# loading data"
   ]
  },
  {
   "cell_type": "markdown",
   "metadata": {},
   "source": [
    "## overall boundary\n",
    "the maximum extent for  blocks generation"
   ]
  },
  {
   "cell_type": "code",
   "execution_count": 2,
   "metadata": {
    "ExecuteTime": {
     "end_time": "2023-09-24T18:01:32.125296Z",
     "start_time": "2023-09-24T18:01:32.080287Z"
    },
    "scrolled": true
   },
   "outputs": [],
   "source": [
    "boundary = gpd.read_file(r'D:\\Research\\Some Basic Data\\Nanjing\\cityborder_2035').to_crs(CRS_planar)\n",
    "boundary = boundary.geometry.explode(index_parts=True).reset_index(drop=True).reset_index()\n",
    "boundary['geometry'] = [shapely.geometry.Polygon(i) for i in boundary['geometry']]\n",
    "boundary['geometry'] = boundary.buffer(0)"
   ]
  },
  {
   "cell_type": "markdown",
   "metadata": {},
   "source": [
    "## landuse"
   ]
  },
  {
   "cell_type": "code",
   "execution_count": null,
   "metadata": {},
   "outputs": [],
   "source": [
    "landuse = gpd.read_file(r'D:\\Research\\Some Basic Data\\Nanjing\\landuse 2015\\new landuse_nj.shp').to_crs(CRS_planar)\n",
    "\n",
    "#landuse = landuse[~landuse['类型'].isin(['水域'])]\n",
    "s = gpd.sjoin(landuse, boundary)\n",
    "landuse = landuse[landuse.index.isin(s.index)].copy()"
   ]
  },
  {
   "cell_type": "markdown",
   "metadata": {},
   "source": [
    "# generate blocks"
   ]
  },
  {
   "cell_type": "markdown",
   "metadata": {},
   "source": [
    "## merge to get blocks"
   ]
  },
  {
   "cell_type": "code",
   "execution_count": 10,
   "metadata": {
    "ExecuteTime": {
     "end_time": "2021-11-30T14:43:50.307189Z",
     "start_time": "2021-11-30T14:43:47.051057Z"
    }
   },
   "outputs": [],
   "source": [
    "# merge to get blocks\n",
    "s = landuse.unary_union\n",
    "blocks = gpd.GeoSeries(list(s.geoms)).reset_index()\n",
    "blocks.columns = ['blockID', 'geometry']\n",
    "blocks = gpd.GeoDataFrame(blocks,crs = landuse.crs)"
   ]
  },
  {
   "cell_type": "code",
   "execution_count": 12,
   "metadata": {
    "ExecuteTime": {
     "end_time": "2021-11-30T14:45:35.935943Z",
     "start_time": "2021-11-30T14:45:35.151394Z"
    }
   },
   "outputs": [],
   "source": [
    "blocks.to_file('../data/blocks_from_new_landuse')"
   ]
  },
  {
   "cell_type": "markdown",
   "metadata": {},
   "source": [
    "## purging\n",
    "### delete some blocks outside boundary manually in QGIS "
   ]
  },
  {
   "cell_type": "code",
   "execution_count": 101,
   "metadata": {
    "ExecuteTime": {
     "end_time": "2021-11-23T08:19:30.497085Z",
     "start_time": "2021-11-23T08:19:30.307311Z"
    }
   },
   "outputs": [],
   "source": [
    "## 1. in QGIS delete some blocks outside boundary manually\n",
    "blocks = gpd.read_file(r'D:\\Research\\Some Basic Data\\Nanjing\\block_from_landuse')"
   ]
  },
  {
   "cell_type": "code",
   "execution_count": 13,
   "metadata": {
    "ExecuteTime": {
     "end_time": "2021-11-30T15:29:22.429802Z",
     "start_time": "2021-11-30T15:29:22.363515Z"
    }
   },
   "outputs": [],
   "source": [
    "blocks2 = blocks.to_crs(CRS_planar)"
   ]
  },
  {
   "cell_type": "markdown",
   "metadata": {},
   "source": [
    "### remove blocks that are too small"
   ]
  },
  {
   "cell_type": "code",
   "execution_count": null,
   "metadata": {
    "ExecuteTime": {
     "end_time": "2021-11-30T15:29:28.190237Z",
     "start_time": "2021-11-30T15:29:26.979569Z"
    }
   },
   "outputs": [],
   "source": [
    "## 2. remove blocks that are too small\n",
    "min_width = 50\n",
    "blocks2 = blocks2[[not i.buffer(-min_width/2).is_empty for i in blocks2['geometry']]]"
   ]
  },
  {
   "cell_type": "markdown",
   "metadata": {},
   "source": [
    "### fix small cracks"
   ]
  },
  {
   "cell_type": "code",
   "execution_count": 14,
   "metadata": {
    "ExecuteTime": {
     "end_time": "2021-11-30T15:29:28.190237Z",
     "start_time": "2021-11-30T15:29:26.979569Z"
    }
   },
   "outputs": [],
   "source": [
    "## 3. fix small cracks\n",
    "blocks2['geometry'] = blocks2.buffer(1).buffer(-1)"
   ]
  },
  {
   "cell_type": "markdown",
   "metadata": {},
   "source": [
    "### merge blocks that are supposed to be merged but are not due to small cracks now"
   ]
  },
  {
   "cell_type": "code",
   "execution_count": 15,
   "metadata": {
    "ExecuteTime": {
     "end_time": "2021-11-30T15:29:42.543173Z",
     "start_time": "2021-11-30T15:29:37.602862Z"
    }
   },
   "outputs": [],
   "source": [
    "## 4. merge blocks that are supposed to be merged but are not due to small cracks now\n",
    "blocks3 = pd.Series(list(blocks2.buffer(1).unary_union)).reset_index()\n",
    "blocks3.columns = ['blockID', 'geometry']\n",
    "blocks3 = gpd.GeoDataFrame(blocks3, crs=blocks2.crs)\n",
    "blocks3['geometry'] = blocks3.buffer(-1)\n",
    "\n",
    "#blocks3 = blocks3.to_crs(WGS84)"
   ]
  },
  {
   "cell_type": "code",
   "execution_count": 16,
   "metadata": {
    "ExecuteTime": {
     "end_time": "2021-11-30T15:29:45.121656Z",
     "start_time": "2021-11-30T15:29:43.115960Z"
    }
   },
   "outputs": [],
   "source": [
    "blocks3.to_file(r'D:\\Research\\Some Basic Data\\Nanjing\\block_from_new_landuse_purged')"
   ]
  },
  {
   "cell_type": "code",
   "execution_count": null,
   "metadata": {},
   "outputs": [],
   "source": []
  }
 ],
 "metadata": {
  "kernelspec": {
   "display_name": "Python [conda env:pycaret]",
   "language": "python",
   "name": "conda-env-pycaret-py"
  },
  "language_info": {
   "codemirror_mode": {
    "name": "ipython",
    "version": 3
   },
   "file_extension": ".py",
   "mimetype": "text/x-python",
   "name": "python",
   "nbconvert_exporter": "python",
   "pygments_lexer": "ipython3",
   "version": "3.8.16"
  },
  "latex_envs": {
   "LaTeX_envs_menu_present": true,
   "autoclose": false,
   "autocomplete": true,
   "bibliofile": "biblio.bib",
   "cite_by": "apalike",
   "current_citInitial": 1,
   "eqLabelWithNumbers": true,
   "eqNumInitial": 1,
   "hotkeys": {
    "equation": "Ctrl-E",
    "itemize": "Ctrl-I"
   },
   "labels_anchors": false,
   "latex_user_defs": false,
   "report_style_numbering": false,
   "user_envs_cfg": false
  },
  "toc": {
   "base_numbering": 1,
   "nav_menu": {},
   "number_sections": true,
   "sideBar": true,
   "skip_h1_title": false,
   "title_cell": "Table of Contents",
   "title_sidebar": "Contents",
   "toc_cell": false,
   "toc_position": {
    "height": "calc(100% - 180px)",
    "left": "10px",
    "top": "150px",
    "width": "288px"
   },
   "toc_section_display": true,
   "toc_window_display": true
  }
 },
 "nbformat": 4,
 "nbformat_minor": 4
}
