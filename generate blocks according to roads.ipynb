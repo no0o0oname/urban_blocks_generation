{
 "cells": [
  {
   "cell_type": "code",
   "execution_count": 65,
   "metadata": {
    "ExecuteTime": {
     "end_time": "2023-09-24T18:46:49.023169Z",
     "start_time": "2023-09-24T18:46:49.005184Z"
    }
   },
   "outputs": [],
   "source": [
    "# -*- coding: utf-8 -*- \n",
    "from __future__ import unicode_literals\n",
    "\n",
    "import numpy as np\n",
    "import pandas as pd\n",
    "import json\n",
    "import itertools as itt\n",
    "import os\n",
    "import matplotlib.pyplot as plt\n",
    "import matplotlib as mpl\n",
    "import seaborn as sns\n",
    "\n",
    "\n",
    "\n",
    "import geopandas as gpd\n",
    "import shapely\n",
    "import fiona\n",
    "import CoordinatesConverter as convert_xy  #the .py file for bd09 conversioin\n",
    "\n",
    "%matplotlib inline\n",
    "#plt.style.use('ggplot')\n",
    "plt.rcParams['figure.figsize']=[18,8]\n",
    "plt.rcParams['axes.titlesize'] = 'medium'\n",
    "plt.rcParams['font.sans-serif'] = 'SimHei'\n",
    "plt.rcParams['axes.unicode_minus'] = False\n",
    "plt.rcParams['legend.frameon'] = False\n",
    "\n",
    "\n",
    "WGS84 = 'EPSG:4326'\n",
    "#UTM_bj = ccrs.UTM(50)\n",
    "UTM_bj = 'EPSG:32650'\n",
    "UTM_nj = 'EPSG:32650'\n",
    "\n",
    "\n",
    "## set the projection (planar) crs of this area\n",
    "CRS_planar = UTM_nj"
   ]
  },
  {
   "cell_type": "markdown",
   "metadata": {
    "ExecuteTime": {
     "end_time": "2021-12-05T13:10:30.164850Z",
     "start_time": "2021-12-05T13:10:30.157840Z"
    }
   },
   "source": [
    "# loading data"
   ]
  },
  {
   "cell_type": "markdown",
   "metadata": {},
   "source": [
    "## overall boundary\n",
    "the maximum extent for  blocks generation"
   ]
  },
  {
   "cell_type": "code",
   "execution_count": 2,
   "metadata": {
    "ExecuteTime": {
     "end_time": "2023-09-24T18:01:32.125296Z",
     "start_time": "2023-09-24T18:01:32.080287Z"
    },
    "scrolled": true
   },
   "outputs": [],
   "source": [
    "boundary = gpd.read_file(r'D:\\Research\\Some Basic Data\\Nanjing\\cityborder_2035').to_crs(CRS_planar)\n",
    "boundary = boundary.geometry.explode(index_parts=True).reset_index(drop=True).reset_index()\n",
    "boundary['geometry'] = [shapely.geometry.Polygon(i) for i in boundary['geometry']]\n",
    "boundary['geometry'] = boundary.buffer(0)"
   ]
  },
  {
   "cell_type": "markdown",
   "metadata": {},
   "source": [
    "## water\n",
    "the water area"
   ]
  },
  {
   "cell_type": "code",
   "execution_count": 5,
   "metadata": {
    "ExecuteTime": {
     "end_time": "2023-09-24T18:03:06.622120Z",
     "start_time": "2023-09-24T18:03:02.255033Z"
    }
   },
   "outputs": [],
   "source": [
    "region = gpd.read_file(r'D:\\Research\\Some Basic Data\\Crawling from AMap\\Nanjing\\merged_region.shp').to_crs(CRS_planar)\n",
    "\n",
    "water = gpd.GeoDataFrame({'geometry':list(region[region['style']== '30001:2'].unary_union.geoms)}, crs=region.crs)\n",
    "#park = gpd.GeoDataFrame({'geometry':list(region[region['style']== '30002:5'].unary_union.geoms)}, crs=region.crs)"
   ]
  },
  {
   "cell_type": "markdown",
   "metadata": {},
   "source": [
    "## road with level and width\n",
    "the roads that block generation is base on  \n",
    "with information about road level and road width to determine the buffer distance "
   ]
  },
  {
   "cell_type": "raw",
   "metadata": {
    "ExecuteTime": {
     "end_time": "2022-04-19T17:53:19.158166Z",
     "start_time": "2022-04-19T17:53:18.914305Z"
    },
    "code_folding": []
   },
   "source": [
    "# get the road width from AMap style\n",
    "with open(r'D:\\Research\\Some Basic Data\\Crawling from AMap\\scripts\\style.json','r') as f:\n",
    "    style = json.load(f)\n",
    "\n",
    "r = {}\n",
    "for s in style['stylemaps']:\n",
    "    temp = style['stylemaps'][s]    \n",
    "    if '20' in temp['levelStyleMapping']:\n",
    "        r[s] = temp['browserStyle'][temp['levelStyleMapping']['20']]\n",
    "\n",
    "road_width = {s:r[s][0].split('&')[0] for s in r if s[0]=='2'}\n",
    "road_width = {s: float(road_width[s]) for s in road_width if road_width[s]!=''}\n",
    "road_width = pd.Series(road_width).reset_index(name='width').rename({'index':'style'},axis=1)\n",
    "\n",
    "roads = roads.merge(road_width,how='left')"
   ]
  },
  {
   "cell_type": "raw",
   "metadata": {
    "ExecuteTime": {
     "end_time": "2021-12-28T16:49:44.780134Z",
     "start_time": "2021-12-28T16:49:44.372926Z"
    }
   },
   "source": [
    "road_width['mainkey'] = [i.split(':')[0] for i in road_width['style']]\n",
    "road_width['mainkey'] = road_width['mainkey'].astype(int)"
   ]
  },
  {
   "cell_type": "code",
   "execution_count": 6,
   "metadata": {
    "ExecuteTime": {
     "end_time": "2023-09-24T18:04:04.849452Z",
     "start_time": "2023-09-24T18:03:22.551296Z"
    },
    "scrolled": true
   },
   "outputs": [],
   "source": [
    "roads= gpd.read_file(r'D:\\Research\\Urban vitality\\data\\roads').to_crs(CRS_planar)"
   ]
  },
  {
   "cell_type": "markdown",
   "metadata": {},
   "source": [
    "## building"
   ]
  },
  {
   "cell_type": "code",
   "execution_count": 7,
   "metadata": {
    "ExecuteTime": {
     "end_time": "2023-09-24T18:04:50.511294Z",
     "start_time": "2023-09-24T18:04:04.849452Z"
    }
   },
   "outputs": [],
   "source": [
    "building = gpd.read_file(r'D:\\Research\\Urban vitality\\data\\buildings\\buildings.shp').to_crs(CRS_planar)"
   ]
  },
  {
   "cell_type": "markdown",
   "metadata": {},
   "source": [
    "# generate blocks"
   ]
  },
  {
   "cell_type": "markdown",
   "metadata": {},
   "source": [
    "## generate the overall outline of blocks \n",
    "- slightly enlarge boundary to ensure coverage\n",
    "- remove waters: sea, large lakes and major rivers are not considered to be inside blocks\n",
    "- cut with roads, and get the polygons that are entirely inside boundary to be the overall outline of blocks"
   ]
  },
  {
   "cell_type": "code",
   "execution_count": 8,
   "metadata": {
    "ExecuteTime": {
     "end_time": "2023-09-24T18:04:57.039725Z",
     "start_time": "2023-09-24T18:04:57.017736Z"
    }
   },
   "outputs": [],
   "source": [
    "## generate a ground with extent much larger than boundary for cutting out roads and waters in later steps\n",
    "ground = boundary.unary_union.minimum_rotated_rectangle.buffer(5000)"
   ]
  },
  {
   "cell_type": "code",
   "execution_count": 9,
   "metadata": {
    "ExecuteTime": {
     "end_time": "2023-09-24T18:05:00.558902Z",
     "start_time": "2023-09-24T18:04:58.392761Z"
    }
   },
   "outputs": [],
   "source": [
    "## remove waters\n",
    "ground = ground.difference(water.unary_union)"
   ]
  },
  {
   "cell_type": "code",
   "execution_count": 10,
   "metadata": {
    "ExecuteTime": {
     "end_time": "2023-09-24T18:08:02.206905Z",
     "start_time": "2023-09-24T18:05:33.739998Z"
    }
   },
   "outputs": [],
   "source": [
    "## cut with roads\n",
    "ground = ground.difference(roads.buffer(1).unary_union)\n",
    "ground = gpd.GeoDataFrame({'geometry':list(ground.geoms)},crs=CRS_planar).reset_index()"
   ]
  },
  {
   "cell_type": "code",
   "execution_count": 12,
   "metadata": {
    "ExecuteTime": {
     "end_time": "2023-09-24T18:11:42.926452Z",
     "start_time": "2023-09-24T18:10:45.573297Z"
    }
   },
   "outputs": [],
   "source": [
    "## filter out the polygons that are entirely inside boundary from results\n",
    "s = gpd.sjoin(ground.drop(['index'],axis=1), boundary.drop('index',axis=1), predicate='within')\n",
    "\n",
    "### union these polygons\n",
    "base = s.buffer(2).unary_union\n",
    "base = gpd.GeoDataFrame({'geometry':list(base.geoms)},crs=CRS_planar).reset_index()\n",
    "\n",
    "### only get outline\n",
    "base['geometry'] = [shapely.geometry.Polygon(i.exterior) for i in base['geometry']]  \n",
    "\n",
    "### union again to remove overlapped polygons\n",
    "base = base.unary_union\n",
    "base = gpd.GeoDataFrame({'geometry':list(base.geoms)},crs=CRS_planar)\n",
    "\n",
    "#base.to_file('../data/base')"
   ]
  },
  {
   "cell_type": "code",
   "execution_count": 14,
   "metadata": {
    "ExecuteTime": {
     "end_time": "2023-09-24T18:11:53.544906Z",
     "start_time": "2023-09-24T18:11:53.271239Z"
    }
   },
   "outputs": [
    {
     "data": {
      "text/plain": [
       "<Axes: >"
      ]
     },
     "execution_count": 14,
     "metadata": {},
     "output_type": "execute_result"
    },
    {
     "data": {
      "image/png": "[encoded data removed]",
      "text/plain": [
       "<Figure size 1800x800 with 1 Axes>"
      ]
     },
     "metadata": {},
     "output_type": "display_data"
    }
   ],
   "source": [
    "base.plot()"
   ]
  },
  {
   "cell_type": "markdown",
   "metadata": {},
   "source": [
    "## split the overall outline of blocks with buffered roads"
   ]
  },
  {
   "cell_type": "markdown",
   "metadata": {},
   "source": [
    "- some roads with high level also have small width, such as '20001:6' or '20003:5', so select roads with pure width is not very considerate\n",
    "- some roads with the same width are categorized into different level, like '20007:3' and '20008:1', so use merely width is not appropriate, either"
   ]
  },
  {
   "cell_type": "code",
   "execution_count": 88,
   "metadata": {
    "ExecuteTime": {
     "end_time": "2023-09-24T19:00:55.547394Z",
     "start_time": "2023-09-24T19:00:55.535401Z"
    },
    "code_folding": [
     0,
     8
    ]
   },
   "outputs": [],
   "source": [
    "def split_blocks_with_buffered_roads(blocks, buffered_roads):\n",
    "    assert blocks.crs == buffered_roads.crs\n",
    "    temp = blocks.unary_union.difference(buffered_roads.unary_union)\n",
    "    temp = gpd.GeoDataFrame({'geometry':list(temp.geoms)},crs=blocks.crs).reset_index().rename({'index':'blockID'},axis=1)\n",
    "    temp['area'] = temp.area\n",
    "    return temp    \n",
    "\n",
    "\n",
    "def purge_small_and_no_building_blocks(blocks, min_width, building=building):\n",
    "    ## filter out blocks that are too small, i.e., become empty after buffering inward by min_width/2\n",
    "    to_purge = blocks[[i.buffer(-min_width/2).is_empty for i in blocks['geometry']]].copy()\n",
    "\n",
    "    ## further filter out the blocks that have no buildings from these blocks\n",
    "    s = gpd.sjoin(to_purge,building,how='inner')\n",
    "    to_purge = to_purge[~to_purge['blockID'].isin(s['blockID'])]\n",
    "    \n",
    "    ## purge out these blocks\n",
    "    blocks_purged = blocks[~blocks['blockID'].isin(to_purge['blockID'])].copy()\n",
    "    \n",
    "    ## reindex\n",
    "    blocks_purged['blockID'] = range(len(blocks_purged))\n",
    "    return blocks_purged"
   ]
  },
  {
   "cell_type": "markdown",
   "metadata": {},
   "source": [
    "### select the roads that are eligible for splitting blocks\n",
    "select these roads according to road width"
   ]
  },
  {
   "cell_type": "code",
   "execution_count": 16,
   "metadata": {
    "ExecuteTime": {
     "end_time": "2023-09-24T18:16:59.016785Z",
     "start_time": "2023-09-24T18:16:58.982043Z"
    }
   },
   "outputs": [],
   "source": [
    "to_split = roads[roads['width']>=36].copy()"
   ]
  },
  {
   "cell_type": "raw",
   "metadata": {
    "ExecuteTime": {
     "end_time": "2021-12-05T12:11:04.256360Z",
     "start_time": "2021-12-05T12:11:04.232375Z"
    }
   },
   "source": [
    "## select roads to split according to road level\n",
    "to_split = road[road['mainkey'].isin(['20001','20002','20003','20004','20007'])]  ## down to Level 2 road\n",
    "to_split = to_split[to_split['style'] != '20008:5'].copy()"
   ]
  },
  {
   "cell_type": "markdown",
   "metadata": {},
   "source": [
    "### split with roads 1 (express road)"
   ]
  },
  {
   "cell_type": "code",
   "execution_count": 36,
   "metadata": {
    "ExecuteTime": {
     "end_time": "2023-09-24T18:29:20.147109Z",
     "start_time": "2023-09-24T18:29:20.060220Z"
    }
   },
   "outputs": [],
   "source": [
    "to_split_1 = to_split[to_split['mainkey'].isin([20001,20002,20003,20004])].copy()\n",
    "\n",
    "to_split_1['buffered'] = to_split_1.buffer(to_split_1['width']/8)"
   ]
  },
  {
   "cell_type": "code",
   "execution_count": 37,
   "metadata": {
    "ExecuteTime": {
     "end_time": "2023-09-24T18:29:21.736564Z",
     "start_time": "2023-09-24T18:29:20.440433Z"
    }
   },
   "outputs": [],
   "source": [
    "## split with these roads\n",
    "blocks_1 = split_blocks_with_buffered_roads(base, to_split_1['buffered'])"
   ]
  },
  {
   "cell_type": "code",
   "execution_count": 38,
   "metadata": {
    "ExecuteTime": {
     "end_time": "2023-09-24T18:29:22.197981Z",
     "start_time": "2023-09-24T18:29:21.738546Z"
    }
   },
   "outputs": [],
   "source": [
    "## purge blocks that are too small and there is no building on it\n",
    "min_width = 200\n",
    "blocks_1_purged = purge_small_and_no_building_blocks(blocks_1, min_width=min_width)"
   ]
  },
  {
   "cell_type": "markdown",
   "metadata": {},
   "source": [
    "### split with roads 2 (main road)"
   ]
  },
  {
   "cell_type": "code",
   "execution_count": 40,
   "metadata": {
    "ExecuteTime": {
     "end_time": "2023-09-24T18:32:13.544632Z",
     "start_time": "2023-09-24T18:32:13.257218Z"
    }
   },
   "outputs": [],
   "source": [
    "# then, select the main roads according to road level\n",
    "to_split_2 = to_split[to_split['mainkey'].isin([20001,20002,20003,20004,20007])].copy()\n",
    "\n",
    "to_split_2['buffered'] = to_split_2.buffer(to_split_2['width']/8)"
   ]
  },
  {
   "cell_type": "code",
   "execution_count": 41,
   "metadata": {
    "ExecuteTime": {
     "end_time": "2023-09-24T18:32:39.992969Z",
     "start_time": "2023-09-24T18:32:34.599840Z"
    }
   },
   "outputs": [],
   "source": [
    "## split with these roads\n",
    "blocks_2 = split_blocks_with_buffered_roads(blocks_1_purged, to_split_2['buffered'])"
   ]
  },
  {
   "cell_type": "code",
   "execution_count": 44,
   "metadata": {
    "ExecuteTime": {
     "end_time": "2023-09-24T18:33:20.736624Z",
     "start_time": "2023-09-24T18:33:19.890682Z"
    }
   },
   "outputs": [],
   "source": [
    "## purge blocks that are too small and there is no building on it\n",
    "min_width = 60\n",
    "blocks_2_purged = purge_small_and_no_building_blocks(blocks_2, min_width=min_width)"
   ]
  },
  {
   "cell_type": "markdown",
   "metadata": {},
   "source": [
    "### split with roads 3 (all eligible roads)"
   ]
  },
  {
   "cell_type": "code",
   "execution_count": 47,
   "metadata": {
    "ExecuteTime": {
     "end_time": "2023-09-24T18:34:49.438658Z",
     "start_time": "2023-09-24T18:34:48.892812Z"
    }
   },
   "outputs": [],
   "source": [
    "# then, select the main roads according to road level\n",
    "to_split_3 = to_split.copy()\n",
    "\n",
    "to_split_3['buffered'] = to_split_3.buffer(to_split_3['width']/8)"
   ]
  },
  {
   "cell_type": "code",
   "execution_count": 48,
   "metadata": {
    "ExecuteTime": {
     "end_time": "2023-09-24T18:35:06.226415Z",
     "start_time": "2023-09-24T18:34:53.065713Z"
    }
   },
   "outputs": [],
   "source": [
    "## split with these roads\n",
    "blocks_3 = split_blocks_with_buffered_roads(blocks_2_purged, to_split_3['buffered'])"
   ]
  },
  {
   "cell_type": "code",
   "execution_count": 51,
   "metadata": {
    "ExecuteTime": {
     "end_time": "2023-09-24T18:35:54.135900Z",
     "start_time": "2023-09-24T18:35:52.868823Z"
    }
   },
   "outputs": [],
   "source": [
    "## purge blocks that are too small and there is no building on it\n",
    "min_width = 50\n",
    "blocks_3_purged = purge_small_and_no_building_blocks(blocks_3, min_width=min_width)"
   ]
  },
  {
   "cell_type": "markdown",
   "metadata": {},
   "source": [
    "### split with railway"
   ]
  },
  {
   "cell_type": "code",
   "execution_count": 82,
   "metadata": {
    "ExecuteTime": {
     "end_time": "2023-09-24T18:57:34.095726Z",
     "start_time": "2023-09-24T18:57:34.076737Z"
    }
   },
   "outputs": [],
   "source": [
    "railway_width = 18\n",
    "railway = roads[roads['mainkey']==20010].copy()\n",
    "railway['buffered'] = railway.buffer(railway_width/2)\n",
    "\n",
    "to_split_4 = railway"
   ]
  },
  {
   "cell_type": "code",
   "execution_count": 57,
   "metadata": {
    "ExecuteTime": {
     "end_time": "2023-09-24T18:39:33.125048Z",
     "start_time": "2023-09-24T18:39:30.928080Z"
    }
   },
   "outputs": [],
   "source": [
    "## split with railway\n",
    "blocks_4 = split_blocks_with_buffered_roads(blocks_3_purged, to_split_4['buffered'])"
   ]
  },
  {
   "cell_type": "code",
   "execution_count": 59,
   "metadata": {
    "ExecuteTime": {
     "end_time": "2023-09-24T18:40:28.514803Z",
     "start_time": "2023-09-24T18:40:27.490216Z"
    }
   },
   "outputs": [],
   "source": [
    "## purge blocks that are too small and there is no building on it\n",
    "min_width = 40\n",
    "blocks_4_purged = purge_small_and_no_building_blocks(blocks_4, min_width=min_width)"
   ]
  },
  {
   "cell_type": "markdown",
   "metadata": {},
   "source": [
    "### fix inner roads\n",
    "- fix blocks and identify inner roads\n",
    "    - method 1 (not: \n",
    "        - inner roads are roads adjoining _only one block_, but it's hard to measure the _adjoining_ of roads and blocks  \n",
    "        this method __does not work__, since some roads are represented by multiple lines, resulting in a single line adjoining only one block while itself is not inner road\n",
    "    - method 2: \n",
    "        1. first, fix blocks with buffer out and buffer in        \n",
    "        2. intersect fixed blocks with exploded roads to get inner roads"
   ]
  },
  {
   "cell_type": "code",
   "execution_count": 63,
   "metadata": {
    "ExecuteTime": {
     "end_time": "2023-09-24T18:44:53.487623Z",
     "start_time": "2023-09-24T18:44:50.926207Z"
    },
    "code_folding": []
   },
   "outputs": [],
   "source": [
    "## fix blocks with buffer out and buffer in\n",
    "dist = 12\n",
    "blocks_5 = blocks_4_purged.copy()\n",
    "blocks_5['geometry'] = blocks_5.buffer(dist).buffer(-dist)"
   ]
  },
  {
   "cell_type": "code",
   "execution_count": 76,
   "metadata": {
    "ExecuteTime": {
     "end_time": "2023-09-24T18:51:42.847110Z",
     "start_time": "2023-09-24T18:51:37.308852Z"
    },
    "code_folding": [
     2
    ]
   },
   "outputs": [],
   "source": [
    "## identify outer roads that are actually used for splitting blocks\n",
    "#### explode all roads that are eligible for splitting blocks\n",
    "def explode_road(road):\n",
    "    def explode(temp):\n",
    "        t = np.array(temp.coords)\n",
    "        return shapely.union_all([shapely.geometry.LineString([i,j]) for i,j in zip(t[:-1],t[1:])])\n",
    "    res = road.copy()\n",
    "    res['geometry'] = res['geometry'].apply(explode)\n",
    "    res = res.explode(ignore_index=True)\n",
    "    return res\n",
    "to_split_exploded = explode_road(to_split)\n",
    "\n",
    "#### intersect exploded roads with fixed blocks to identify outer and inner roads\n",
    "s = gpd.sjoin(to_split_exploded, blocks_5)\n",
    "inner_roads = to_split_exploded[to_split_exploded.index.isin(s.index)].copy()\n",
    "outer_roads = to_split_exploded[~to_split_exploded.index.isin(s.index)].copy()\n",
    "#inner_roads.to_file('../data/inner_roads')"
   ]
  },
  {
   "cell_type": "code",
   "execution_count": 83,
   "metadata": {
    "ExecuteTime": {
     "end_time": "2023-09-24T18:57:38.012503Z",
     "start_time": "2023-09-24T18:57:37.943105Z"
    }
   },
   "outputs": [],
   "source": [
    "### save splitting roads to aid further processing \n",
    "splitting = pd.concat([railway.drop('buffered',axis=1), outer_roads.drop('buffered',axis=1)],ignore_index=True)\n",
    "#splitting.to_file('../data/roads_used_in_splitting_blocks2')"
   ]
  },
  {
   "cell_type": "markdown",
   "metadata": {},
   "source": [
    "### cut wider\n",
    "cut blocks by `outer_roads` with a larger width \n",
    "- from 1/8 `width` recorded in road data to 1/4 `width` recorded in road data\n",
    "- with the `outer_roads` identified in previous step"
   ]
  },
  {
   "cell_type": "code",
   "execution_count": 89,
   "metadata": {
    "ExecuteTime": {
     "end_time": "2023-09-24T19:01:22.694869Z",
     "start_time": "2023-09-24T19:01:02.021623Z"
    }
   },
   "outputs": [],
   "source": [
    "# cut with wider outer roads\n",
    "outer_roads['buffered'] = outer_roads.buffer(outer_roads['width']/4)\n",
    "\n",
    "blocks_6 = split_blocks_with_buffered_roads(blocks_5, outer_roads['buffered'])"
   ]
  },
  {
   "cell_type": "code",
   "execution_count": 90,
   "metadata": {
    "ExecuteTime": {
     "end_time": "2023-09-24T19:01:23.987662Z",
     "start_time": "2023-09-24T19:01:22.697487Z"
    }
   },
   "outputs": [],
   "source": [
    "## purge blocks that are too small and there is no building on it\n",
    "min_width = 30\n",
    "blocks_6_purged = purge_small_and_no_building_blocks(blocks_6, min_width=min_width)"
   ]
  },
  {
   "cell_type": "markdown",
   "metadata": {},
   "source": [
    "## deal with mountain and water\n",
    "- small river not cosidered in purging\n",
    "- purge out large mountain and water, while ignore small mountain and water\n",
    "\n",
    "- considering that there are still large value of vitality proxy on mountains, keep the mountain area as blocks seperated by a thin imagery \"road\""
   ]
  },
  {
   "cell_type": "code",
   "execution_count": 128,
   "metadata": {
    "ExecuteTime": {
     "end_time": "2023-09-24T19:33:44.549054Z",
     "start_time": "2023-09-24T19:33:40.310579Z"
    }
   },
   "outputs": [],
   "source": [
    "### water entirely inside a block will be excluded\n",
    "s = gpd.sjoin(water,blocks_6_purged,predicate='covered_by')\n",
    "water_to_cut = water[~water.index.isin(s.index)].copy()\n",
    "\n",
    "### exclude small islands\n",
    "area_threshold = 10000\n",
    "temp = split_blocks_with_buffered_roads(base, water_to_cut)\n",
    "\n",
    "to_add_holes = temp[temp['area']<area_threshold].copy()\n",
    "water_to_cut = water_to_cut.unary_union.union(to_add_holes.buffer(1).unary_union)\n",
    "\n",
    "### small rivers represented by road lines\n",
    "#river = roads[roads['mainkey']==20014].copy()\n",
    "#river = river.buffer(9).unary_union\n",
    "\n",
    "#water_to_cut = water_to_cut.union(river)"
   ]
  },
  {
   "cell_type": "code",
   "execution_count": 129,
   "metadata": {
    "ExecuteTime": {
     "end_time": "2023-09-24T19:33:44.578919Z",
     "start_time": "2023-09-24T19:33:44.549054Z"
    }
   },
   "outputs": [],
   "source": [
    "## large mountain\n",
    "mountIDs = [25695,23523]\n",
    "mountain = region[region['ID'].isin(mountIDs)].explode(index_parts=True).to_crs(CRS_planar)\n",
    "mountain['geometry'] = [shapely.geometry.Polygon(i.exterior) for i in mountain['geometry']]  ## remove interior islands\n",
    "mountain['area'] = mountain.area\n",
    "mountain = mountain.sort_values('area',ascending=False)[:-1]  ## remove small polygon parts of id 23523\n",
    "\n",
    "### change into outline\n",
    "mountain = mountain.boundary.buffer(6).unary_union"
   ]
  },
  {
   "cell_type": "code",
   "execution_count": 119,
   "metadata": {
    "ExecuteTime": {
     "end_time": "2023-09-24T19:21:51.168436Z",
     "start_time": "2023-09-24T19:21:48.803412Z"
    }
   },
   "outputs": [],
   "source": [
    "## split mountain and water\n",
    "mountain_and_water = water_to_cut.union(mountain)\n",
    "\n",
    "blocks_7 = blocks_6_purged.unary_union.difference(mountain_and_water)\n",
    "blocks_7 = gpd.GeoDataFrame({'geometry':list(blocks_7.geoms)},crs=CRS_planar).reset_index().rename({'index':'blockID'},axis=1)\n",
    "blocks_7['area'] = blocks_7.area"
   ]
  },
  {
   "cell_type": "code",
   "execution_count": 130,
   "metadata": {
    "ExecuteTime": {
     "end_time": "2023-09-24T19:33:45.968100Z",
     "start_time": "2023-09-24T19:33:44.578919Z"
    }
   },
   "outputs": [],
   "source": [
    "## purge blocks that are too small and there is no building on it\n",
    "min_width = 30\n",
    "blocks_7_purged = purge_small_and_no_building_blocks(blocks_7, min_width=min_width)"
   ]
  },
  {
   "cell_type": "markdown",
   "metadata": {},
   "source": [
    "## remove holes inside blocks\n",
    "Of the holes inside one block, if there is no other block inside this hole, this is a hole to be dropped.   \n",
    "Note: this procedure should be carried out at last __after__ `cut wider` and `cut water`, as these procedures would result in meaningless holes."
   ]
  },
  {
   "cell_type": "code",
   "execution_count": 131,
   "metadata": {
    "ExecuteTime": {
     "end_time": "2023-09-24T19:33:49.669418Z",
     "start_time": "2023-09-24T19:33:49.273393Z"
    }
   },
   "outputs": [],
   "source": [
    "blocks_8 = blocks_7_purged.copy()\n",
    "\n",
    "## drop holes inside blocks\n",
    "temp = blocks_8.copy()\n",
    "temp = temp[[len(i.interiors)>0 for i in blocks_8['geometry']]].copy()\n",
    "temp['geometry'] = [shapely.geometry.Polygon(i.exterior) for i in temp['geometry']]\n",
    "\n",
    "## the dropped-hole blocks that do not cover other blocks\n",
    "s = temp.sjoin(blocks_8)\n",
    "temp = temp[~temp['blockID'].isin(s[s['blockID_left']!=s['blockID_right']]['blockID_left'].unique())]\n",
    "\n",
    "## only drop holes inside these blocks\n",
    "mask = blocks_8['blockID'].isin(temp['blockID'])\n",
    "blocks_8['geometry'] = [shapely.geometry.Polygon(i.exterior) if ma else i for ma,i in zip(mask,blocks_8['geometry'])]"
   ]
  },
  {
   "cell_type": "markdown",
   "metadata": {},
   "source": [
    "## finally, purge blocks that are extremely small\n",
    "purge blocks that are extremely small even if they have buildings  \n",
    "these extremely small blocks are not considered in our analysis"
   ]
  },
  {
   "cell_type": "code",
   "execution_count": 137,
   "metadata": {
    "ExecuteTime": {
     "end_time": "2023-09-24T19:37:50.677559Z",
     "start_time": "2023-09-24T19:37:49.702605Z"
    }
   },
   "outputs": [],
   "source": [
    "## additionally, purge blocks that are extremely small even if they have buildings\n",
    "min_width = 15\n",
    "to_purge = blocks_8[[i.buffer(-min_width/2).is_empty for i in blocks_8['geometry']]].copy()\n",
    "blocks_8_purged = blocks_8[~blocks_8['blockID'].isin(to_purge['blockID'])].copy()\n",
    "\n",
    "blocks_8_purged['blockID'] = range(len(blocks_8_purged))\n",
    "blocks_8_purged['area'] = blocks_8_purged.area"
   ]
  },
  {
   "cell_type": "markdown",
   "metadata": {},
   "source": [
    "## some geometry corrections and manual adjustment\n",
    "- there are still some blocks adjoining each other, e.g. 2389 and 2390. Seems that this problem causes error in QGIS tessellation\n",
    "    - this problem could be fixed by first buffer in and then buffer out\n",
    "- manually remove some sliver blocks along the boundary"
   ]
  },
  {
   "cell_type": "code",
   "execution_count": 147,
   "metadata": {
    "ExecuteTime": {
     "end_time": "2023-09-24T19:43:33.879659Z",
     "start_time": "2023-09-24T19:43:33.705103Z"
    }
   },
   "outputs": [
    {
     "data": {
      "text/html": [
       "<div>\n",
       "<style scoped>\n",
       "    .dataframe tbody tr th:only-of-type {\n",
       "        vertical-align: middle;\n",
       "    }\n",
       "\n",
       "    .dataframe tbody tr th {\n",
       "        vertical-align: top;\n",
       "    }\n",
       "\n",
       "    .dataframe thead th {\n",
       "        text-align: right;\n",
       "    }\n",
       "</style>\n",
       "<table border=\"1\" class=\"dataframe\">\n",
       "  <thead>\n",
       "    <tr style=\"text-align: right;\">\n",
       "      <th></th>\n",
       "      <th>blockID_left</th>\n",
       "      <th>geometry</th>\n",
       "      <th>area_left</th>\n",
       "      <th>index_right</th>\n",
       "      <th>blockID_right</th>\n",
       "      <th>area_right</th>\n",
       "    </tr>\n",
       "  </thead>\n",
       "  <tbody>\n",
       "    <tr>\n",
       "      <th>3366</th>\n",
       "      <td>3290</td>\n",
       "      <td>POLYGON ((683310.744 3554898.261, 683310.718 3...</td>\n",
       "      <td>17971.586428</td>\n",
       "      <td>3365</td>\n",
       "      <td>3289</td>\n",
       "      <td>29389.349299</td>\n",
       "    </tr>\n",
       "    <tr>\n",
       "      <th>3365</th>\n",
       "      <td>3289</td>\n",
       "      <td>POLYGON ((683431.905 3554583.228, 683431.841 3...</td>\n",
       "      <td>29389.349299</td>\n",
       "      <td>3366</td>\n",
       "      <td>3290</td>\n",
       "      <td>17971.586428</td>\n",
       "    </tr>\n",
       "  </tbody>\n",
       "</table>\n",
       "</div>"
      ],
      "text/plain": [
       "      blockID_left                                           geometry  \\\n",
       "3366          3290  POLYGON ((683310.744 3554898.261, 683310.718 3...   \n",
       "3365          3289  POLYGON ((683431.905 3554583.228, 683431.841 3...   \n",
       "\n",
       "         area_left  index_right  blockID_right    area_right  \n",
       "3366  17971.586428         3365           3289  29389.349299  \n",
       "3365  29389.349299         3366           3290  17971.586428  "
      ]
     },
     "execution_count": 147,
     "metadata": {},
     "output_type": "execute_result"
    }
   ],
   "source": [
    "s = blocks_8_purged.sjoin(blocks_8_purged)\n",
    "s[s['blockID_left']!=s['blockID_right']]"
   ]
  },
  {
   "cell_type": "code",
   "execution_count": 148,
   "metadata": {
    "ExecuteTime": {
     "end_time": "2023-09-24T19:43:35.355242Z",
     "start_time": "2023-09-24T19:43:34.535771Z"
    }
   },
   "outputs": [],
   "source": [
    "blocks_9 = blocks_8_purged.copy()\n",
    "blocks_9['geometry'] = blocks_9.buffer(-1).buffer(1)\n",
    "blocks_9['area'] = blocks_9.area"
   ]
  },
  {
   "cell_type": "code",
   "execution_count": 149,
   "metadata": {
    "ExecuteTime": {
     "end_time": "2023-09-24T19:43:36.196035Z",
     "start_time": "2023-09-24T19:43:35.923867Z"
    },
    "scrolled": true
   },
   "outputs": [
    {
     "data": {
      "text/html": [
       "<div>\n",
       "<style scoped>\n",
       "    .dataframe tbody tr th:only-of-type {\n",
       "        vertical-align: middle;\n",
       "    }\n",
       "\n",
       "    .dataframe tbody tr th {\n",
       "        vertical-align: top;\n",
       "    }\n",
       "\n",
       "    .dataframe thead th {\n",
       "        text-align: right;\n",
       "    }\n",
       "</style>\n",
       "<table border=\"1\" class=\"dataframe\">\n",
       "  <thead>\n",
       "    <tr style=\"text-align: right;\">\n",
       "      <th></th>\n",
       "      <th>blockID_left</th>\n",
       "      <th>geometry</th>\n",
       "      <th>area_left</th>\n",
       "      <th>index_right</th>\n",
       "      <th>blockID_right</th>\n",
       "      <th>area_right</th>\n",
       "    </tr>\n",
       "  </thead>\n",
       "  <tbody>\n",
       "  </tbody>\n",
       "</table>\n",
       "</div>"
      ],
      "text/plain": [
       "Empty GeoDataFrame\n",
       "Columns: [blockID_left, geometry, area_left, index_right, blockID_right, area_right]\n",
       "Index: []"
      ]
     },
     "execution_count": 149,
     "metadata": {},
     "output_type": "execute_result"
    }
   ],
   "source": [
    "s = blocks_9.sjoin(blocks_9)\n",
    "s[s['blockID_left']!=s['blockID_right']]"
   ]
  },
  {
   "cell_type": "markdown",
   "metadata": {},
   "source": [
    "## export result"
   ]
  },
  {
   "cell_type": "code",
   "execution_count": null,
   "metadata": {},
   "outputs": [],
   "source": [
    "blocks_9.to_file('../data/blocks')"
   ]
  },
  {
   "cell_type": "code",
   "execution_count": null,
   "metadata": {},
   "outputs": [],
   "source": []
  }
 ],
 "metadata": {
  "kernelspec": {
   "display_name": "Python [conda env:pycaret]",
   "language": "python",
   "name": "conda-env-pycaret-py"
  },
  "language_info": {
   "codemirror_mode": {
    "name": "ipython",
    "version": 3
   },
   "file_extension": ".py",
   "mimetype": "text/x-python",
   "name": "python",
   "nbconvert_exporter": "python",
   "pygments_lexer": "ipython3",
   "version": "3.8.16"
  },
  "latex_envs": {
   "LaTeX_envs_menu_present": true,
   "autoclose": false,
   "autocomplete": true,
   "bibliofile": "biblio.bib",
   "cite_by": "apalike",
   "current_citInitial": 1,
   "eqLabelWithNumbers": true,
   "eqNumInitial": 1,
   "hotkeys": {
    "equation": "Ctrl-E",
    "itemize": "Ctrl-I"
   },
   "labels_anchors": false,
   "latex_user_defs": false,
   "report_style_numbering": false,
   "user_envs_cfg": false
  },
  "toc": {
   "base_numbering": 1,
   "nav_menu": {},
   "number_sections": true,
   "sideBar": true,
   "skip_h1_title": false,
   "title_cell": "Table of Contents",
   "title_sidebar": "Contents",
   "toc_cell": false,
   "toc_position": {
    "height": "calc(100% - 180px)",
    "left": "10px",
    "top": "150px",
    "width": "288px"
   },
   "toc_section_display": true,
   "toc_window_display": true
  }
 },
 "nbformat": 4,
 "nbformat_minor": 4
}
